{
 "cells": [
  {
   "cell_type": "code",
   "execution_count": 122,
   "id": "3cb8778e",
   "metadata": {},
   "outputs": [
    {
     "name": "stdout",
     "output_type": "stream",
     "text": [
      "mlflow, version 1.26.0\n"
     ]
    }
   ],
   "source": [
    "import mlflow \n",
    "!mlflow --version"
   ]
  },
  {
   "cell_type": "code",
   "execution_count": 135,
   "id": "ef69605c",
   "metadata": {},
   "outputs": [],
   "source": [
    "from mlflow.tracking import MlflowClient\n",
    "\n",
    "\n",
    "MLFLOW_TRACKING_URI = \"sqlite:///mlflow.db\""
   ]
  },
  {
   "cell_type": "code",
   "execution_count": 136,
   "id": "750dff93",
   "metadata": {},
   "outputs": [
    {
     "data": {
      "text/plain": [
       "[<Experiment: artifact_location='./mlruns/1', experiment_id='1', lifecycle_stage='active', name='nyc-green-taxi', tags={}>,\n",
       " <Experiment: artifact_location='./mlruns/2', experiment_id='2', lifecycle_stage='active', name='random-forest-hyperopt', tags={}>]"
      ]
     },
     "execution_count": 136,
     "metadata": {},
     "output_type": "execute_result"
    }
   ],
   "source": [
    "client = MlflowClient(tracking_uri=MLFLOW_TRACKING_URI)\n",
    "\n",
    "client.list_experiments()"
   ]
  },
  {
   "cell_type": "code",
   "execution_count": 137,
   "id": "85156030",
   "metadata": {},
   "outputs": [
    {
     "data": {
      "text/plain": [
       "[<Run: data=<RunData: metrics={'rmse': 6.729070933590364,\n",
       "  'training_mae': 3.9579721044559886,\n",
       "  'training_mse': 32.842658732583544,\n",
       "  'training_r2_score': 0.7543646399020425,\n",
       "  'training_rmse': 5.73085148408014,\n",
       "  'training_score': 0.7543646399020425}, params={'bootstrap': 'True',\n",
       "  'ccp_alpha': '0.0',\n",
       "  'criterion': 'squared_error',\n",
       "  'max_depth': '10',\n",
       "  'max_features': '1.0',\n",
       "  'max_leaf_nodes': 'None',\n",
       "  'max_samples': 'None',\n",
       "  'min_impurity_decrease': '0.0',\n",
       "  'min_samples_leaf': '1',\n",
       "  'min_samples_split': '2',\n",
       "  'min_weight_fraction_leaf': '0.0',\n",
       "  'n_estimators': '100',\n",
       "  'n_jobs': 'None',\n",
       "  'oob_score': 'False',\n",
       "  'random_state': '0',\n",
       "  'verbose': '0',\n",
       "  'warm_start': 'False'}, tags={'developer': 'Prashant Sharma',\n",
       "  'estimator_class': 'sklearn.ensemble._forest.RandomForestRegressor',\n",
       "  'estimator_name': 'RandomForestRegressor',\n",
       "  'mlflow.log-model.history': '[{\"run_id\": \"d7a5a2fb9d5840ef81adc7854d0f1d6d\", '\n",
       "                              '\"artifact_path\": \"model\", \"utc_time_created\": '\n",
       "                              '\"2022-05-27 10:51:38.234863\", \"flavors\": '\n",
       "                              '{\"python_function\": {\"model_path\": \"model.pkl\", '\n",
       "                              '\"loader_module\": \"mlflow.sklearn\", '\n",
       "                              '\"python_version\": \"3.9.7\", \"env\": \"conda.yaml\"}, '\n",
       "                              '\"sklearn\": {\"pickled_model\": \"model.pkl\", '\n",
       "                              '\"sklearn_version\": \"1.1.1\", '\n",
       "                              '\"serialization_format\": \"cloudpickle\", \"code\": '\n",
       "                              'null}}, \"model_uuid\": '\n",
       "                              '\"e2fd4af51f97496db101a2f8c4ac28ff\", '\n",
       "                              '\"mlflow_version\": \"1.26.0\", \"signature\": '\n",
       "                              '{\"inputs\": \"[{\\\\\"type\\\\\": \\\\\"tensor\\\\\", '\n",
       "                              '\\\\\"tensor-spec\\\\\": {\\\\\"dtype\\\\\": \\\\\"float64\\\\\", '\n",
       "                              '\\\\\"shape\\\\\": [-1, 13221]}}]\", \"outputs\": '\n",
       "                              '\"[{\\\\\"type\\\\\": \\\\\"tensor\\\\\", \\\\\"tensor-spec\\\\\": '\n",
       "                              '{\\\\\"dtype\\\\\": \\\\\"float64\\\\\", \\\\\"shape\\\\\": '\n",
       "                              '[-1]}}]\"}}]',\n",
       "  'mlflow.source.git.commit': '1df4452cb0a38b532511e9a75202833e447e68f2',\n",
       "  'mlflow.source.name': 'train.py',\n",
       "  'mlflow.source.type': 'LOCAL',\n",
       "  'mlflow.user': 'Prashant Sharma'}>, info=<RunInfo: artifact_uri='./mlruns/1/d7a5a2fb9d5840ef81adc7854d0f1d6d/artifacts', end_time=1653648703318, experiment_id='1', lifecycle_stage='active', run_id='d7a5a2fb9d5840ef81adc7854d0f1d6d', run_uuid='d7a5a2fb9d5840ef81adc7854d0f1d6d', start_time=1653648671564, status='FINISHED', user_id='Prashant Sharma'>>,\n",
       " <Run: data=<RunData: metrics={'rmse': 6.729070933590364,\n",
       "  'training_mae': 3.9579721044559886,\n",
       "  'training_mse': 32.842658732583544,\n",
       "  'training_r2_score': 0.7543646399020425,\n",
       "  'training_rmse': 5.73085148408014,\n",
       "  'training_score': 0.7543646399020425}, params={'bootstrap': 'True',\n",
       "  'ccp_alpha': '0.0',\n",
       "  'criterion': 'squared_error',\n",
       "  'max_depth': '10',\n",
       "  'max_features': '1.0',\n",
       "  'max_leaf_nodes': 'None',\n",
       "  'max_samples': 'None',\n",
       "  'min_impurity_decrease': '0.0',\n",
       "  'min_samples_leaf': '1',\n",
       "  'min_samples_split': '2',\n",
       "  'min_weight_fraction_leaf': '0.0',\n",
       "  'n_estimators': '100',\n",
       "  'n_jobs': 'None',\n",
       "  'oob_score': 'False',\n",
       "  'random_state': '0',\n",
       "  'verbose': '0',\n",
       "  'warm_start': 'False'}, tags={'developer': 'Prashant Sharma',\n",
       "  'estimator_class': 'sklearn.ensemble._forest.RandomForestRegressor',\n",
       "  'estimator_name': 'RandomForestRegressor',\n",
       "  'mlflow.log-model.history': '[{\"run_id\": \"e8992a8d98304f478c3fe51625139054\", '\n",
       "                              '\"artifact_path\": \"model\", \"utc_time_created\": '\n",
       "                              '\"2022-05-27 10:43:14.158217\", \"flavors\": '\n",
       "                              '{\"python_function\": {\"model_path\": \"model.pkl\", '\n",
       "                              '\"loader_module\": \"mlflow.sklearn\", '\n",
       "                              '\"python_version\": \"3.9.7\", \"env\": \"conda.yaml\"}, '\n",
       "                              '\"sklearn\": {\"pickled_model\": \"model.pkl\", '\n",
       "                              '\"sklearn_version\": \"1.1.1\", '\n",
       "                              '\"serialization_format\": \"cloudpickle\", \"code\": '\n",
       "                              'null}}, \"model_uuid\": '\n",
       "                              '\"c7eb6cf73a144100b1192b265393c875\", '\n",
       "                              '\"mlflow_version\": \"1.26.0\", \"signature\": '\n",
       "                              '{\"inputs\": \"[{\\\\\"type\\\\\": \\\\\"tensor\\\\\", '\n",
       "                              '\\\\\"tensor-spec\\\\\": {\\\\\"dtype\\\\\": \\\\\"float64\\\\\", '\n",
       "                              '\\\\\"shape\\\\\": [-1, 13221]}}]\", \"outputs\": '\n",
       "                              '\"[{\\\\\"type\\\\\": \\\\\"tensor\\\\\", \\\\\"tensor-spec\\\\\": '\n",
       "                              '{\\\\\"dtype\\\\\": \\\\\"float64\\\\\", \\\\\"shape\\\\\": '\n",
       "                              '[-1]}}]\"}}]',\n",
       "  'mlflow.source.git.commit': '1df4452cb0a38b532511e9a75202833e447e68f2',\n",
       "  'mlflow.source.name': 'train.py',\n",
       "  'mlflow.source.type': 'LOCAL',\n",
       "  'mlflow.user': 'Prashant Sharma'}>, info=<RunInfo: artifact_uri='./mlruns/1/e8992a8d98304f478c3fe51625139054/artifacts', end_time=1653648199842, experiment_id='1', lifecycle_stage='active', run_id='e8992a8d98304f478c3fe51625139054', run_uuid='e8992a8d98304f478c3fe51625139054', start_time=1653648166653, status='FINISHED', user_id='Prashant Sharma'>>,\n",
       " <Run: data=<RunData: metrics={'rmse': 6.729070933590364,\n",
       "  'training_mae': 3.9579721044559886,\n",
       "  'training_mse': 32.842658732583544,\n",
       "  'training_r2_score': 0.7543646399020425,\n",
       "  'training_rmse': 5.73085148408014,\n",
       "  'training_score': 0.7543646399020425}, params={'bootstrap': 'True',\n",
       "  'ccp_alpha': '0.0',\n",
       "  'criterion': 'squared_error',\n",
       "  'max_depth': '10',\n",
       "  'max_features': '1.0',\n",
       "  'max_leaf_nodes': 'None',\n",
       "  'max_samples': 'None',\n",
       "  'min_impurity_decrease': '0.0',\n",
       "  'min_samples_leaf': '1',\n",
       "  'min_samples_split': '2',\n",
       "  'min_weight_fraction_leaf': '0.0',\n",
       "  'n_estimators': '100',\n",
       "  'n_jobs': 'None',\n",
       "  'oob_score': 'False',\n",
       "  'random_state': '0',\n",
       "  'verbose': '0',\n",
       "  'warm_start': 'False'}, tags={'developer': 'Prashant Sharma',\n",
       "  'estimator_class': 'sklearn.ensemble._forest.RandomForestRegressor',\n",
       "  'estimator_name': 'RandomForestRegressor',\n",
       "  'mlflow.log-model.history': '[{\"run_id\": \"65e901ad816441db9509b31c0b763abd\", '\n",
       "                              '\"artifact_path\": \"model\", \"utc_time_created\": '\n",
       "                              '\"2022-05-27 09:45:09.821835\", \"flavors\": '\n",
       "                              '{\"python_function\": {\"model_path\": \"model.pkl\", '\n",
       "                              '\"loader_module\": \"mlflow.sklearn\", '\n",
       "                              '\"python_version\": \"3.9.7\", \"env\": \"conda.yaml\"}, '\n",
       "                              '\"sklearn\": {\"pickled_model\": \"model.pkl\", '\n",
       "                              '\"sklearn_version\": \"1.1.1\", '\n",
       "                              '\"serialization_format\": \"cloudpickle\", \"code\": '\n",
       "                              'null}}, \"model_uuid\": '\n",
       "                              '\"26407717e52f4fab8a4982d164e0aa49\", '\n",
       "                              '\"mlflow_version\": \"1.26.0\", \"signature\": '\n",
       "                              '{\"inputs\": \"[{\\\\\"type\\\\\": \\\\\"tensor\\\\\", '\n",
       "                              '\\\\\"tensor-spec\\\\\": {\\\\\"dtype\\\\\": \\\\\"float64\\\\\", '\n",
       "                              '\\\\\"shape\\\\\": [-1, 13221]}}]\", \"outputs\": '\n",
       "                              '\"[{\\\\\"type\\\\\": \\\\\"tensor\\\\\", \\\\\"tensor-spec\\\\\": '\n",
       "                              '{\\\\\"dtype\\\\\": \\\\\"float64\\\\\", \\\\\"shape\\\\\": '\n",
       "                              '[-1]}}]\"}}]',\n",
       "  'mlflow.source.git.commit': '1df4452cb0a38b532511e9a75202833e447e68f2',\n",
       "  'mlflow.source.name': 'train.py',\n",
       "  'mlflow.source.type': 'LOCAL',\n",
       "  'mlflow.user': 'Prashant Sharma'}>, info=<RunInfo: artifact_uri='./mlruns/1/65e901ad816441db9509b31c0b763abd/artifacts', end_time=1653644715028, experiment_id='1', lifecycle_stage='active', run_id='65e901ad816441db9509b31c0b763abd', run_uuid='65e901ad816441db9509b31c0b763abd', start_time=1653644683309, status='FINISHED', user_id='Prashant Sharma'>>]"
      ]
     },
     "execution_count": 137,
     "metadata": {},
     "output_type": "execute_result"
    }
   ],
   "source": [
    "from mlflow.entities import ViewType\n",
    "\n",
    "runs = client.search_runs(\n",
    "    experiment_ids=\"1\",\n",
    "    filter_string=\"\",\n",
    "    run_view_type= ViewType.ACTIVE_ONLY,\n",
    "    max_results = 5,\n",
    "    order_by=[\"metrics.rmse ASC\"]\n",
    "    \n",
    ")\n",
    "runs"
   ]
  },
  {
   "cell_type": "code",
   "execution_count": 138,
   "id": "693e071c",
   "metadata": {},
   "outputs": [
    {
     "name": "stdout",
     "output_type": "stream",
     "text": [
      "run id d7a5a2fb9d5840ef81adc7854d0f1d6d, rmse: 6.7291\n",
      "run id e8992a8d98304f478c3fe51625139054, rmse: 6.7291\n",
      "run id 65e901ad816441db9509b31c0b763abd, rmse: 6.7291\n"
     ]
    }
   ],
   "source": [
    "for run in runs:\n",
    "    print(f\"run id {run.info.run_id}, rmse: {run.data.metrics['rmse']:.4f}\")"
   ]
  },
  {
   "cell_type": "code",
   "execution_count": 145,
   "id": "a0a67f7f",
   "metadata": {},
   "outputs": [],
   "source": [
    "import mlflow\n",
    "\n",
    "mlflow.set_tracking_uri = 'sqlite:///mlflow.db'"
   ]
  },
  {
   "cell_type": "code",
   "execution_count": 146,
   "id": "c1868a0a",
   "metadata": {},
   "outputs": [
    {
     "ename": "MlflowException",
     "evalue": "Model Registry features are not supported by the store with URI: 'file:///C:/mlops/mlops/module2/mlruns'. Stores with the following URI schemes are supported: ['databricks', 'http', 'https', 'postgresql', 'mysql', 'sqlite', 'mssql'].",
     "output_type": "error",
     "traceback": [
      "\u001b[1;31m---------------------------------------------------------------------------\u001b[0m",
      "\u001b[1;31mKeyError\u001b[0m                                  Traceback (most recent call last)",
      "File \u001b[1;32mC:\\mlops\\mlops\\env\\lib\\site-packages\\mlflow\\tracking\\registry.py:76\u001b[0m, in \u001b[0;36mStoreRegistry.get_store_builder\u001b[1;34m(self, store_uri)\u001b[0m\n\u001b[0;32m     75\u001b[0m \u001b[38;5;28;01mtry\u001b[39;00m:\n\u001b[1;32m---> 76\u001b[0m     store_builder \u001b[38;5;241m=\u001b[39m \u001b[38;5;28;43mself\u001b[39;49m\u001b[38;5;241;43m.\u001b[39;49m\u001b[43m_registry\u001b[49m\u001b[43m[\u001b[49m\u001b[43mscheme\u001b[49m\u001b[43m]\u001b[49m\n\u001b[0;32m     77\u001b[0m \u001b[38;5;28;01mexcept\u001b[39;00m \u001b[38;5;167;01mKeyError\u001b[39;00m:\n",
      "\u001b[1;31mKeyError\u001b[0m: 'file'",
      "\nDuring handling of the above exception, another exception occurred:\n",
      "\u001b[1;31mUnsupportedModelRegistryStoreURIException\u001b[0m Traceback (most recent call last)",
      "File \u001b[1;32mC:\\mlops\\mlops\\env\\lib\\site-packages\\mlflow\\tracking\\client.py:95\u001b[0m, in \u001b[0;36mMlflowClient._get_registry_client\u001b[1;34m(self)\u001b[0m\n\u001b[0;32m     94\u001b[0m \u001b[38;5;28;01mtry\u001b[39;00m:\n\u001b[1;32m---> 95\u001b[0m     registry_client \u001b[38;5;241m=\u001b[39m \u001b[43mModelRegistryClient\u001b[49m\u001b[43m(\u001b[49m\u001b[38;5;28;43mself\u001b[39;49m\u001b[38;5;241;43m.\u001b[39;49m\u001b[43m_registry_uri\u001b[49m\u001b[43m)\u001b[49m\n\u001b[0;32m     96\u001b[0m     \u001b[38;5;66;03m# Define an instance variable on this `MlflowClient` instance to reference the\u001b[39;00m\n\u001b[0;32m     97\u001b[0m     \u001b[38;5;66;03m# `ModelRegistryClient` that was just constructed. `setattr()` is used to ensure\u001b[39;00m\n\u001b[0;32m     98\u001b[0m     \u001b[38;5;66;03m# that the variable name is consistent with the variable name specified in the\u001b[39;00m\n\u001b[0;32m     99\u001b[0m     \u001b[38;5;66;03m# preceding call to `getattr()`\u001b[39;00m\n",
      "File \u001b[1;32mC:\\mlops\\mlops\\env\\lib\\site-packages\\mlflow\\tracking\\_model_registry\\client.py:36\u001b[0m, in \u001b[0;36mModelRegistryClient.__init__\u001b[1;34m(self, registry_uri)\u001b[0m\n\u001b[0;32m     33\u001b[0m \u001b[38;5;66;03m# NB: Fetch the tracking store (`self.store`) upon client initialization to ensure that\u001b[39;00m\n\u001b[0;32m     34\u001b[0m \u001b[38;5;66;03m# the tracking URI is valid and the store can be properly resolved. We define `store` as a\u001b[39;00m\n\u001b[0;32m     35\u001b[0m \u001b[38;5;66;03m# property method to ensure that the client is serializable, even if the store is not\u001b[39;00m\n\u001b[1;32m---> 36\u001b[0m \u001b[38;5;28;43mself\u001b[39;49m\u001b[38;5;241;43m.\u001b[39;49m\u001b[43mstore\u001b[49m\n",
      "File \u001b[1;32mC:\\mlops\\mlops\\env\\lib\\site-packages\\mlflow\\tracking\\_model_registry\\client.py:40\u001b[0m, in \u001b[0;36mModelRegistryClient.store\u001b[1;34m(self)\u001b[0m\n\u001b[0;32m     38\u001b[0m \u001b[38;5;129m@property\u001b[39m\n\u001b[0;32m     39\u001b[0m \u001b[38;5;28;01mdef\u001b[39;00m \u001b[38;5;21mstore\u001b[39m(\u001b[38;5;28mself\u001b[39m):\n\u001b[1;32m---> 40\u001b[0m     \u001b[38;5;28;01mreturn\u001b[39;00m \u001b[43mutils\u001b[49m\u001b[38;5;241;43m.\u001b[39;49m\u001b[43m_get_store\u001b[49m\u001b[43m(\u001b[49m\u001b[38;5;28;43mself\u001b[39;49m\u001b[38;5;241;43m.\u001b[39;49m\u001b[43mregistry_uri\u001b[49m\u001b[43m)\u001b[49m\n",
      "File \u001b[1;32mC:\\mlops\\mlops\\env\\lib\\site-packages\\mlflow\\tracking\\_model_registry\\utils.py:169\u001b[0m, in \u001b[0;36m_get_store\u001b[1;34m(store_uri)\u001b[0m\n\u001b[0;32m    168\u001b[0m \u001b[38;5;28;01mdef\u001b[39;00m \u001b[38;5;21m_get_store\u001b[39m(store_uri\u001b[38;5;241m=\u001b[39m\u001b[38;5;28;01mNone\u001b[39;00m):\n\u001b[1;32m--> 169\u001b[0m     \u001b[38;5;28;01mreturn\u001b[39;00m \u001b[43m_get_store_registry\u001b[49m\u001b[43m(\u001b[49m\u001b[43m)\u001b[49m\u001b[38;5;241;43m.\u001b[39;49m\u001b[43mget_store\u001b[49m\u001b[43m(\u001b[49m\u001b[43mstore_uri\u001b[49m\u001b[43m)\u001b[49m\n",
      "File \u001b[1;32mC:\\mlops\\mlops\\env\\lib\\site-packages\\mlflow\\tracking\\_model_registry\\registry.py:37\u001b[0m, in \u001b[0;36mModelRegistryStoreRegistry.get_store\u001b[1;34m(self, store_uri)\u001b[0m\n\u001b[0;32m     36\u001b[0m resolved_store_uri \u001b[38;5;241m=\u001b[39m utils\u001b[38;5;241m.\u001b[39m_resolve_registry_uri(store_uri)\n\u001b[1;32m---> 37\u001b[0m \u001b[38;5;28;01mreturn\u001b[39;00m \u001b[38;5;28;43mself\u001b[39;49m\u001b[38;5;241;43m.\u001b[39;49m\u001b[43m_get_store_with_resolved_uri\u001b[49m\u001b[43m(\u001b[49m\u001b[43mresolved_store_uri\u001b[49m\u001b[43m)\u001b[49m\n",
      "File \u001b[1;32mC:\\mlops\\mlops\\env\\lib\\site-packages\\mlflow\\tracking\\_model_registry\\registry.py:46\u001b[0m, in \u001b[0;36mModelRegistryStoreRegistry._get_store_with_resolved_uri\u001b[1;34m(self, resolved_store_uri)\u001b[0m\n\u001b[0;32m     41\u001b[0m \u001b[38;5;124;03m\"\"\"\u001b[39;00m\n\u001b[0;32m     42\u001b[0m \u001b[38;5;124;03mRetrieve the store associated with a resolved (non-None) store URI and an artifact URI.\u001b[39;00m\n\u001b[0;32m     43\u001b[0m \u001b[38;5;124;03mCaching is done on resolved URIs because the meaning of an unresolved (None) URI may change\u001b[39;00m\n\u001b[0;32m     44\u001b[0m \u001b[38;5;124;03mdepending on external configuration, such as environment variables\u001b[39;00m\n\u001b[0;32m     45\u001b[0m \u001b[38;5;124;03m\"\"\"\u001b[39;00m\n\u001b[1;32m---> 46\u001b[0m builder \u001b[38;5;241m=\u001b[39m \u001b[38;5;28;43mself\u001b[39;49m\u001b[38;5;241;43m.\u001b[39;49m\u001b[43mget_store_builder\u001b[49m\u001b[43m(\u001b[49m\u001b[43mresolved_store_uri\u001b[49m\u001b[43m)\u001b[49m\n\u001b[0;32m     47\u001b[0m \u001b[38;5;28;01mreturn\u001b[39;00m builder(store_uri\u001b[38;5;241m=\u001b[39mresolved_store_uri)\n",
      "File \u001b[1;32mC:\\mlops\\mlops\\env\\lib\\site-packages\\mlflow\\tracking\\registry.py:78\u001b[0m, in \u001b[0;36mStoreRegistry.get_store_builder\u001b[1;34m(self, store_uri)\u001b[0m\n\u001b[0;32m     77\u001b[0m \u001b[38;5;28;01mexcept\u001b[39;00m \u001b[38;5;167;01mKeyError\u001b[39;00m:\n\u001b[1;32m---> 78\u001b[0m     \u001b[38;5;28;01mraise\u001b[39;00m UnsupportedModelRegistryStoreURIException(\n\u001b[0;32m     79\u001b[0m         unsupported_uri\u001b[38;5;241m=\u001b[39mstore_uri, supported_uri_schemes\u001b[38;5;241m=\u001b[39m\u001b[38;5;28mlist\u001b[39m(\u001b[38;5;28mself\u001b[39m\u001b[38;5;241m.\u001b[39m_registry\u001b[38;5;241m.\u001b[39mkeys())\n\u001b[0;32m     80\u001b[0m     )\n\u001b[0;32m     81\u001b[0m \u001b[38;5;28;01mreturn\u001b[39;00m store_builder\n",
      "\u001b[1;31mUnsupportedModelRegistryStoreURIException\u001b[0m:  Model registry functionality is unavailable; got unsupported URI 'file:///C:/mlops/mlops/module2/mlruns' for model registry data storage. Supported URI schemes are: ['databricks', 'http', 'https', 'postgresql', 'mysql', 'sqlite', 'mssql']. See https://www.mlflow.org/docs/latest/tracking.html#storage for how to run an MLflow server against one of the supported backend storage locations.",
      "\nDuring handling of the above exception, another exception occurred:\n",
      "\u001b[1;31mMlflowException\u001b[0m                           Traceback (most recent call last)",
      "Input \u001b[1;32mIn [146]\u001b[0m, in \u001b[0;36m<cell line: 5>\u001b[1;34m()\u001b[0m\n\u001b[0;32m      1\u001b[0m \u001b[38;5;66;03m# import mlflow\u001b[39;00m\n\u001b[0;32m      2\u001b[0m \u001b[38;5;66;03m# mlflow.set_tracking_uri()\u001b[39;00m\n\u001b[0;32m      3\u001b[0m \u001b[38;5;66;03m# run_id = \"65e901ad816441db9509b31c0b763abd\"\u001b[39;00m\n\u001b[0;32m      4\u001b[0m \u001b[38;5;66;03m# model_uri = f\"runs:/{run_id}/sklearn-model\"\u001b[39;00m\n\u001b[1;32m----> 5\u001b[0m \u001b[43mmlflow\u001b[49m\u001b[38;5;241;43m.\u001b[39;49m\u001b[43mregister_model\u001b[49m\u001b[43m(\u001b[49m\u001b[43mmodel_uri\u001b[49m\u001b[43m \u001b[49m\u001b[38;5;241;43m=\u001b[39;49m\u001b[43m \u001b[49m\u001b[38;5;124;43m\"\u001b[39;49m\u001b[38;5;124;43mruns:/e8992a8d98304f478c3fe51625139054/model\u001b[39;49m\u001b[38;5;124;43m\"\u001b[39;49m\u001b[43m,\u001b[49m\u001b[43m \u001b[49m\u001b[43mname\u001b[49m\u001b[43m \u001b[49m\u001b[38;5;241;43m=\u001b[39;49m\u001b[43m \u001b[49m\u001b[38;5;124;43m\"\u001b[39;49m\u001b[38;5;124;43mnyc_taxi_regressor\u001b[39;49m\u001b[38;5;124;43m\"\u001b[39;49m\u001b[43m)\u001b[49m\n",
      "File \u001b[1;32mC:\\mlops\\mlops\\env\\lib\\site-packages\\mlflow\\tracking\\_model_registry\\fluent.py:67\u001b[0m, in \u001b[0;36mregister_model\u001b[1;34m(model_uri, name, await_registration_for)\u001b[0m\n\u001b[0;32m     62\u001b[0m         eprint(\n\u001b[0;32m     63\u001b[0m             \u001b[38;5;124m\"\u001b[39m\u001b[38;5;124mRegistered model \u001b[39m\u001b[38;5;124m'\u001b[39m\u001b[38;5;132;01m%s\u001b[39;00m\u001b[38;5;124m'\u001b[39m\u001b[38;5;124m already exists. Creating a new version of this model...\u001b[39m\u001b[38;5;124m\"\u001b[39m\n\u001b[0;32m     64\u001b[0m             \u001b[38;5;241m%\u001b[39m name\n\u001b[0;32m     65\u001b[0m         )\n\u001b[0;32m     66\u001b[0m     \u001b[38;5;28;01melse\u001b[39;00m:\n\u001b[1;32m---> 67\u001b[0m         \u001b[38;5;28;01mraise\u001b[39;00m e\n\u001b[0;32m     69\u001b[0m \u001b[38;5;28;01mif\u001b[39;00m RunsArtifactRepository\u001b[38;5;241m.\u001b[39mis_runs_uri(model_uri):\n\u001b[0;32m     70\u001b[0m     source \u001b[38;5;241m=\u001b[39m RunsArtifactRepository\u001b[38;5;241m.\u001b[39mget_underlying_uri(model_uri)\n",
      "File \u001b[1;32mC:\\mlops\\mlops\\env\\lib\\site-packages\\mlflow\\tracking\\_model_registry\\fluent.py:58\u001b[0m, in \u001b[0;36mregister_model\u001b[1;34m(model_uri, name, await_registration_for)\u001b[0m\n\u001b[0;32m     56\u001b[0m client \u001b[38;5;241m=\u001b[39m MlflowClient()\n\u001b[0;32m     57\u001b[0m \u001b[38;5;28;01mtry\u001b[39;00m:\n\u001b[1;32m---> 58\u001b[0m     create_model_response \u001b[38;5;241m=\u001b[39m \u001b[43mclient\u001b[49m\u001b[38;5;241;43m.\u001b[39;49m\u001b[43mcreate_registered_model\u001b[49m\u001b[43m(\u001b[49m\u001b[43mname\u001b[49m\u001b[43m)\u001b[49m\n\u001b[0;32m     59\u001b[0m     eprint(\u001b[38;5;124m\"\u001b[39m\u001b[38;5;124mSuccessfully registered model \u001b[39m\u001b[38;5;124m'\u001b[39m\u001b[38;5;132;01m%s\u001b[39;00m\u001b[38;5;124m'\u001b[39m\u001b[38;5;124m.\u001b[39m\u001b[38;5;124m\"\u001b[39m \u001b[38;5;241m%\u001b[39m create_model_response\u001b[38;5;241m.\u001b[39mname)\n\u001b[0;32m     60\u001b[0m \u001b[38;5;28;01mexcept\u001b[39;00m MlflowException \u001b[38;5;28;01mas\u001b[39;00m e:\n",
      "File \u001b[1;32mC:\\mlops\\mlops\\env\\lib\\site-packages\\mlflow\\tracking\\client.py:1658\u001b[0m, in \u001b[0;36mMlflowClient.create_registered_model\u001b[1;34m(self, name, tags, description)\u001b[0m\n\u001b[0;32m   1618\u001b[0m \u001b[38;5;28;01mdef\u001b[39;00m \u001b[38;5;21mcreate_registered_model\u001b[39m(\n\u001b[0;32m   1619\u001b[0m     \u001b[38;5;28mself\u001b[39m, name: \u001b[38;5;28mstr\u001b[39m, tags: Optional[Dict[\u001b[38;5;28mstr\u001b[39m, Any]] \u001b[38;5;241m=\u001b[39m \u001b[38;5;28;01mNone\u001b[39;00m, description: Optional[\u001b[38;5;28mstr\u001b[39m] \u001b[38;5;241m=\u001b[39m \u001b[38;5;28;01mNone\u001b[39;00m\n\u001b[0;32m   1620\u001b[0m ) \u001b[38;5;241m-\u001b[39m\u001b[38;5;241m>\u001b[39m RegisteredModel:\n\u001b[0;32m   1621\u001b[0m     \u001b[38;5;124;03m\"\"\"\u001b[39;00m\n\u001b[0;32m   1622\u001b[0m \u001b[38;5;124;03m    Create a new registered model in backend store.\u001b[39;00m\n\u001b[0;32m   1623\u001b[0m \n\u001b[1;32m   (...)\u001b[0m\n\u001b[0;32m   1656\u001b[0m \u001b[38;5;124;03m        description: This sentiment analysis model classifies the tone-happy, sad, angry.\u001b[39;00m\n\u001b[0;32m   1657\u001b[0m \u001b[38;5;124;03m    \"\"\"\u001b[39;00m\n\u001b[1;32m-> 1658\u001b[0m     \u001b[38;5;28;01mreturn\u001b[39;00m \u001b[38;5;28;43mself\u001b[39;49m\u001b[38;5;241;43m.\u001b[39;49m\u001b[43m_get_registry_client\u001b[49m\u001b[43m(\u001b[49m\u001b[43m)\u001b[49m\u001b[38;5;241m.\u001b[39mcreate_registered_model(name, tags, description)\n",
      "File \u001b[1;32mC:\\mlops\\mlops\\env\\lib\\site-packages\\mlflow\\tracking\\client.py:102\u001b[0m, in \u001b[0;36mMlflowClient._get_registry_client\u001b[1;34m(self)\u001b[0m\n\u001b[0;32m    100\u001b[0m         \u001b[38;5;28msetattr\u001b[39m(\u001b[38;5;28mself\u001b[39m, registry_client_attr, registry_client)\n\u001b[0;32m    101\u001b[0m     \u001b[38;5;28;01mexcept\u001b[39;00m UnsupportedModelRegistryStoreURIException \u001b[38;5;28;01mas\u001b[39;00m exc:\n\u001b[1;32m--> 102\u001b[0m         \u001b[38;5;28;01mraise\u001b[39;00m MlflowException(\n\u001b[0;32m    103\u001b[0m             \u001b[38;5;124m\"\u001b[39m\u001b[38;5;124mModel Registry features are not supported by the store with URI:\u001b[39m\u001b[38;5;124m\"\u001b[39m\n\u001b[0;32m    104\u001b[0m             \u001b[38;5;124m\"\u001b[39m\u001b[38;5;124m \u001b[39m\u001b[38;5;124m'\u001b[39m\u001b[38;5;132;01m{uri}\u001b[39;00m\u001b[38;5;124m'\u001b[39m\u001b[38;5;124m. Stores with the following URI schemes are supported:\u001b[39m\u001b[38;5;124m\"\u001b[39m\n\u001b[0;32m    105\u001b[0m             \u001b[38;5;124m\"\u001b[39m\u001b[38;5;124m \u001b[39m\u001b[38;5;132;01m{schemes}\u001b[39;00m\u001b[38;5;124m.\u001b[39m\u001b[38;5;124m\"\u001b[39m\u001b[38;5;241m.\u001b[39mformat(uri\u001b[38;5;241m=\u001b[39m\u001b[38;5;28mself\u001b[39m\u001b[38;5;241m.\u001b[39m_registry_uri, schemes\u001b[38;5;241m=\u001b[39mexc\u001b[38;5;241m.\u001b[39msupported_uri_schemes),\n\u001b[0;32m    106\u001b[0m             FEATURE_DISABLED,\n\u001b[0;32m    107\u001b[0m         )\n\u001b[0;32m    108\u001b[0m \u001b[38;5;28;01mreturn\u001b[39;00m registry_client\n",
      "\u001b[1;31mMlflowException\u001b[0m: Model Registry features are not supported by the store with URI: 'file:///C:/mlops/mlops/module2/mlruns'. Stores with the following URI schemes are supported: ['databricks', 'http', 'https', 'postgresql', 'mysql', 'sqlite', 'mssql']."
     ]
    }
   ],
   "source": [
    "# import mlflow\n",
    "# mlflow.set_tracking_uri()\n",
    "# run_id = \"65e901ad816441db9509b31c0b763abd\"\n",
    "# model_uri = f\"runs:/{run_id}/sklearn-model\"\n",
    "mlflow.register_model(model_uri = \"runs:/e8992a8d98304f478c3fe51625139054/model\", name = \"nyc_taxi_regressor\")"
   ]
  },
  {
   "cell_type": "code",
   "execution_count": 88,
   "id": "98507cf8",
   "metadata": {},
   "outputs": [
    {
     "data": {
      "text/plain": [
       "<bound method MlflowClient.list_registered_models of <mlflow.tracking.client.MlflowClient object at 0x0000022AED65FFD0>>"
      ]
     },
     "execution_count": 88,
     "metadata": {},
     "output_type": "execute_result"
    }
   ],
   "source": [
    "client.list_registered_models"
   ]
  },
  {
   "cell_type": "code",
   "execution_count": 93,
   "id": "32b63db6",
   "metadata": {},
   "outputs": [
    {
     "data": {
      "text/plain": [
       "[<ModelVersion: creation_timestamp=1653642307152, current_stage='Staging', description='', last_updated_timestamp=1653642803766, name='nyc-gtaxi-regressor', run_id='cae972029c1448fa80228b3da892017a', run_link='', source='./mlruns/1/cae972029c1448fa80228b3da892017a/artifacts/model', status='READY', status_message=None, tags={}, user_id=None, version=1>,\n",
       " <ModelVersion: creation_timestamp=1653644590864, current_stage='None', description='', last_updated_timestamp=1653644590864, name='nyc-gtaxi-regressor', run_id='bc1d17a1f4a142839c4e0e2c04d5470b', run_link='', source='./mlruns/1/bc1d17a1f4a142839c4e0e2c04d5470b/artifacts/model', status='READY', status_message=None, tags={}, user_id=None, version=2>]"
      ]
     },
     "execution_count": 93,
     "metadata": {},
     "output_type": "execute_result"
    }
   ],
   "source": [
    "client.get_latest_versions(name = \"nyc-gtaxi-regressor\")"
   ]
  },
  {
   "cell_type": "code",
   "execution_count": null,
   "id": "14fb9007",
   "metadata": {},
   "outputs": [],
   "source": []
  }
 ],
 "metadata": {
  "kernelspec": {
   "display_name": "env",
   "language": "python",
   "name": "env"
  },
  "language_info": {
   "codemirror_mode": {
    "name": "ipython",
    "version": 3
   },
   "file_extension": ".py",
   "mimetype": "text/x-python",
   "name": "python",
   "nbconvert_exporter": "python",
   "pygments_lexer": "ipython3",
   "version": "3.9.7"
  }
 },
 "nbformat": 4,
 "nbformat_minor": 5
}
